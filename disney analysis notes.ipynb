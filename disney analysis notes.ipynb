{
 "cells": [
  {
   "cell_type": "markdown",
   "metadata": {},
   "source": [
    "# Notes on Project\n",
    "# Motivation\n",
    "I started this project because I wanted to do a data analytics project in relation to movies. Originally, I wanted to create a movie recommendation system. I found that this was not as interesting as I thought it would be and abandonded this project. In my Data 100 class, we used a sentiment analyser to analyze president trumps tweets. I thought that this was very interesting. I wanted to apply this to movie scripts and see what underlying data i could find. \n",
    "\n",
    "First, I started using the sentiment analyzer on each character. From this I was able to find the movies overall sentiment, each characters sentiment, the most positive and negative lines from a movie and commonly used words. During this part of the project I found some interesting trends. \n",
    "\n",
    "In inside out, Joy has all of the top 10 most positive lines in the movie.\n",
    "\n",
    "In cars, all Lightning is the only main character that says 'I' as his most common line, because he is selfish. On the otherhand, all of the other characters say 'you' as their most used word. It is also interesting to not that in their top 50 used words, the supporting characters use more communal words such as 'we', and 'us' more frequently, while lightning prefers selfish words such as 'i', 'me', and 'my'. This is reflective of his selfish attitude.\n",
    "\n",
    "Also, I discovered that the polarity for each member of the furious 5 is more negative in kung fu panda 2 compared to kung fu panda.\n",
    "\n",
    "Of the 30 movies that I analysied only a handful had an overall polarity that was negative, with most movies tending to have more positive language.\n",
    "\n"
   ]
  },
  {
   "cell_type": "markdown",
   "metadata": {},
   "source": [
    "# Disney Animation Data Set Analysis\n",
    "\n",
    "For this portion of the project, I focused only on Disney animation movies. Because I could not find good scripts online for these movies I used springfieldspringfield.com to find scripts. These scripts do not have who is saying the line, so I was unable to do character analysis. In addition to using springfieldspringfield.com, I utilized https://en.wikipedia.org/wiki/List_of_Walt_Disney_Animation_Studios_films to have more data to analyse.\n",
    "\n",
    "## Setup\n",
    "For this part of the project, I download the movie scripts from springfieldspringfield.com and csv files from https://en.wikipedia.org/wiki/List_of_Walt_Disney_Animation_Studios_films. \n",
    "- I had to import the download scripts into my ipython notebook and clean/format the scripts so that they would all have the same structure.\n",
    "- I followed a similar process from the previous part to get the mean polarity for each film and I also found the ratio of positive words to negative words in each film.\n",
    "- Next, I combined the three dataframes that I had created into one dataframe\n",
    "- I had to change the types of columns so that they would be more useful for analysis i.e. converting percentage strings into floats, strings to datetime, and standardizing text\n",
    "\n",
    "## Analysis\n",
    "For this part, I tried to find relationships or interesting trends in the data and apply some outside knowledge as supprot for my reasoning.\n",
    "\n",
    "### Budget\n",
    "The first thing that I believe that we should take note of is the budgets of the movies. As we can see, the budgets for animated movies has increased over time. This is due to many factors such as, inflation, more revenue, increase costs of animation, transition from traditional animation to cgi, etc. \n",
    "\n",
    "One important thing for an animation studio to realize is that budget does not equal quality or revenue. A prime example of this is The Black Cauldron. Being the most expensive animated film to be produced at its time, it resulted in major loses for disney and almost put the studio out of business\n",
    "\n",
    "On the other side of this tho is Tangled. Tangled is to this day, the most expensive animated film ever made. This was due to new technologies being used in the animation. The large budget paid off and the movie became a huge success critically and in the box office.\n",
    "\n",
    "### Ratings\n",
    "We have two metrics of ratings provided by wikipedia: Rotten Tomatoes and Metacritic. \n",
    "\n",
    "Metacritic\n",
    "- The three lowest rating movies on Metacritic are Brother Bear (.48), Chicken Little (.48), and Home on the Range (.5). These movies sucked.\n",
    "- The three highest rating movies on Metacritic are Pinocchio (.99), Dumbo (.98), and Fantasia (.96)\n",
    "- It is interesting that metacritic loved these three movies that all came out in 1940 - 1941. on the otherhand, the three lowest ranking movies came out from 2003-2005. \n",
    "- The mean score of a walt disney animation studio film on meta critic is 73.53%.\n",
    "\n",
    "Rotten Tomatoes\n",
    "- The rotten tomatoes rankings follow similar trends as the metacritic rankings. One interesting thing to note is that when a movie is positively recieved on metacritic, it will have an even higher rating on rotten tomatoes and when it is negatively recieved on metacritic it will be even more negative on rotten tomatoes. I believe this is because rotten tomatoes takes fan reviews and they are more drastic than professionals. \n",
    "- The mean score for a walt disney animated studio film on rotten tomatoes is 81.26%. \n",
    "\n",
    "\n",
    "- The mean score from its first film Snow White and the Seven Dwarfs (released in 1937) to One Hundred and One Dalmatians (released in 1961) was 92.45%\n",
    "- The mean score from The Sword in the Stone(released in 1963) to Oliver & Company (released in 1988) was 71.5%\n",
    "- The mean score from its first film Little Mermaid (released in 1989) to Tarzan (released in 1999) was 84.13%\n",
    "- The mean score from its first film Dinosaur (released in 2000) to Bolt (released in 2008) was 67.78%\n",
    "- The mean score from its first film The Princess and the Frog (released in 2009) to Moana (released in 2016) was 90.37%\n",
    "\n",
    "From this data we can see that there have been multiple periods of success for walt disney animation studios. This first period occured when they first started to make animated films. Then there was a downturn in quality that lasted more than 20 years. Despite the lack of critical success these period includes classics such as 'The Jungle Book', 'Aristocats', and 'The Fox and the Hound'. Then there was a return to success in the 1990s with the releases of many of my favorite disney movies from my childhood. The 2000s were a dark period for disney with flops that were previously described. Lastly, with the studio in turmoil, John Lassetter came over from Pixar to right the ship. With highly successful films such as 'Tangled', 'Frozen', 'Zootopia', and 'Moana', the studio has been able to have many successes in recent history. \n",
    "\n",
    "### Polarity\n",
    "For this section I was able to find good scripts that allowed me to easily see who says each line. The movies that I was able to analyse were 'Aladdin', 'Frozen', 'Moana', 'Mulan', 'Pinicchio', 'The Lion King', and 'Zootopia'.\n",
    "\n",
    "- Aladdin: \n",
    "    - Most Negative: Jafar (0.47)\n",
    "    - Main Characters: Jasmine (0.55) Aladdin (0.86)\n",
    "    - Supporter: Genie (0.91)\n",
    "- Frozen:\n",
    "    - Most Negative: Hans (0.22)\n",
    "    - Main Characters: Anna (1.12)\n",
    "    - Supporter: Olaf (2.27)\n",
    "- Moana:\n",
    "    - Most Negative: Tui(chief) (0.74), Gramma\n",
    "    - Main Characters: Moana (.91)\n",
    "    - Supporter: Maui (.78)\n",
    "- Mulan:\n",
    "    - Most Negative: Chi Fu(Assistant) (.46)\n",
    "    - Main Characters: Mulan (.84)\n",
    "    - Supporter: Mushu (.48)\n",
    "- The Lion King:\n",
    "    - Most Negative: Scar (-.56)\n",
    "    - Main Characters: Simba (0.08)\n",
    "    - Supporter: Timon (0.466)\n",
    "- Zootopia:\n",
    "    - Most Negative: Chief Bogo (-.25)\n",
    "    - Main Characters: Judy (.615)\n",
    "    - Supporter: Nick Wilde (.43)\n",
    "    \n",
    "From the findings described above, I have realized that it is a common trend of the movies that I have analyzed that the antagonist is the most negative character in the movie based soley off of their lines. It was also common for the main character(s) to be less positive than their sidekick that accompaniies them on their journey. A prime example of this si sfrozen, where Hans is the most negative character in the movie, then Anna who is very postive, does not even compare to Olaf's high polarity score.\n",
    "\n"
   ]
  },
  {
   "cell_type": "code",
   "execution_count": null,
   "metadata": {
    "collapsed": true
   },
   "outputs": [],
   "source": []
  },
  {
   "cell_type": "code",
   "execution_count": null,
   "metadata": {
    "collapsed": true
   },
   "outputs": [],
   "source": []
  },
  {
   "cell_type": "code",
   "execution_count": null,
   "metadata": {
    "collapsed": true
   },
   "outputs": [],
   "source": []
  },
  {
   "cell_type": "code",
   "execution_count": null,
   "metadata": {
    "collapsed": true
   },
   "outputs": [],
   "source": []
  },
  {
   "cell_type": "code",
   "execution_count": null,
   "metadata": {
    "collapsed": true
   },
   "outputs": [],
   "source": []
  },
  {
   "cell_type": "code",
   "execution_count": null,
   "metadata": {
    "collapsed": true
   },
   "outputs": [],
   "source": []
  },
  {
   "cell_type": "code",
   "execution_count": null,
   "metadata": {
    "collapsed": true
   },
   "outputs": [],
   "source": []
  },
  {
   "cell_type": "code",
   "execution_count": null,
   "metadata": {
    "collapsed": true
   },
   "outputs": [],
   "source": []
  }
 ],
 "metadata": {
  "kernelspec": {
   "display_name": "Python 3",
   "language": "python",
   "name": "python3"
  },
  "language_info": {
   "codemirror_mode": {
    "name": "ipython",
    "version": 3
   },
   "file_extension": ".py",
   "mimetype": "text/x-python",
   "name": "python",
   "nbconvert_exporter": "python",
   "pygments_lexer": "ipython3",
   "version": "3.6.7"
  }
 },
 "nbformat": 4,
 "nbformat_minor": 2
}
