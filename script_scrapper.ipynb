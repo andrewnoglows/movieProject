{
 "cells": [
  {
   "cell_type": "code",
   "execution_count": 103,
   "metadata": {},
   "outputs": [],
   "source": [
    "import urllib.request as urllib2\n",
    "user_agent = 'Mozilla/5.0 (Macintosh; U; Intel Mac OS X 10_6_4; en-US) AppleWebKit/534.3 (KHTML, like Gecko) Chrome/6.0.472.63 Safari/534.3'\n",
    "headers = { 'User-Agent' : user_agent }\n",
    "req = urllib2.Request('https://www.imsdb.com/scripts/Shrek.html', None, headers)\n",
    "response = urllib2.urlopen(req)\n",
    "page = str(response.read().decode())\n",
    "response.close() # its always safe to close an open connection\n"
   ]
  },
  {
   "cell_type": "code",
   "execution_count": 107,
   "metadata": {},
   "outputs": [
    {
     "data": {
      "text/plain": [
       "\"\\n</b>                         Once upon a time there was a lovely \\n                         princess. But she had an enchantment \\n                         upon her of a fearful sort which could \\n                         only be broken by love's first kiss. \\n                         She was locked away in a castle guarded \\n                         by a terrible fire-breathing dragon. \\n                         Many brave knights had attempted to \\n                         free her from this dreadful prison, \\n                         but non prevailed. She waited in the \\n                         dragon's keep in the highest room of \\n                         the tallest tower for her true love \\n                         and true love's first kiss. (laughs) \\n                         Like that's ever gonna happen. What \\n                         a load of - (toilet flush)\\n<b> \\n</b>               Allstar - by Smashmouth begins to play. Shrek goes about his \\n               day. While in a nearby town, the villagers get together to go \\n               after the ogre.\\n<b> \\n</b><b>               NIGHT - NEAR SHREK'S HOME\\n</b>\\n\""
      ]
     },
     "execution_count": 107,
     "metadata": {},
     "output_type": "execute_result"
    }
   ],
   "source": [
    "import re\n",
    "#page\n",
    "a = re.split(r'scrtext', page)[1][16:]\n",
    "b = re.split(r'<b>                                     [A-Z ]+', a)\n",
    "c = re.findall(r'<b>                                     [A-Z ]+', a)\n",
    "#re.split(r'scrtext', page)[1][16]\n",
    "b[1]\n",
    "\n",
    "#begin_index = len(re.findall(r\"scrtext\", page)[0])+1"
   ]
  },
  {
   "cell_type": "code",
   "execution_count": null,
   "metadata": {
    "collapsed": true
   },
   "outputs": [],
   "source": []
  }
 ],
 "metadata": {
  "kernelspec": {
   "display_name": "Python 3",
   "language": "python",
   "name": "python3"
  },
  "language_info": {
   "codemirror_mode": {
    "name": "ipython",
    "version": 3
   },
   "file_extension": ".py",
   "mimetype": "text/x-python",
   "name": "python",
   "nbconvert_exporter": "python",
   "pygments_lexer": "ipython3",
   "version": "3.6.7"
  }
 },
 "nbformat": 4,
 "nbformat_minor": 2
}
