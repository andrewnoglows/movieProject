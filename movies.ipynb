{
 "cells": [
  {
   "cell_type": "markdown",
   "metadata": {},
   "source": [
    "**The cell below imports all necessary extensions**"
   ]
  },
  {
   "cell_type": "code",
   "execution_count": 1,
   "metadata": {
    "collapsed": true
   },
   "outputs": [],
   "source": [
    "import seaborn as sns\n",
    "import csv\n",
    "import numpy as np\n",
    "import pandas as pd\n",
    "import matplotlib.pyplot as plt\n",
    "import zipfile\n",
    "from pathlib import Path\n",
    "import re\n",
    "from ast import literal_eval\n",
    "\n",
    "# Default plot configurations\n",
    "%matplotlib inline\n",
    "plt.rcParams['figure.figsize'] = (16,8)\n",
    "plt.rcParams['figure.dpi'] = 150\n",
    "sns.set()\n",
    "\n",
    "from IPython.display import display, Latex, Markdown"
   ]
  },
  {
   "cell_type": "markdown",
   "metadata": {},
   "source": [
    "**The cell below reads in movies_metadata.csv**"
   ]
  },
  {
   "cell_type": "code",
   "execution_count": 2,
   "metadata": {},
   "outputs": [
    {
     "name": "stderr",
     "output_type": "stream",
     "text": [
      "/anaconda3/lib/python3.6/site-packages/IPython/core/interactiveshell.py:2698: DtypeWarning: Columns (10) have mixed types. Specify dtype option on import or set low_memory=False.\n",
      "  interactivity=interactivity, compiler=compiler, result=result)\n"
     ]
    }
   ],
   "source": [
    "data_dir = '.'\n",
    "data_dir = Path('the-movies-dataset')\n",
    "raw_data = pd.read_csv('/Users/anoglows/Documents/movieProject/the-movies-dataset/movies_metadata.csv')\n",
    "credits = pd.read_csv('/Users/anoglows/Documents/movieProject/the-movies-dataset/credits.csv')\n",
    "\n"
   ]
  },
  {
   "cell_type": "code",
   "execution_count": 3,
   "metadata": {},
   "outputs": [
    {
     "data": {
      "text/html": [
       "<div>\n",
       "<style>\n",
       "    .dataframe thead tr:only-child th {\n",
       "        text-align: right;\n",
       "    }\n",
       "\n",
       "    .dataframe thead th {\n",
       "        text-align: left;\n",
       "    }\n",
       "\n",
       "    .dataframe tbody tr th {\n",
       "        vertical-align: top;\n",
       "    }\n",
       "</style>\n",
       "<table border=\"1\" class=\"dataframe\">\n",
       "  <thead>\n",
       "    <tr style=\"text-align: right;\">\n",
       "      <th></th>\n",
       "      <th>adult</th>\n",
       "      <th>belongs_to_collection</th>\n",
       "      <th>budget</th>\n",
       "      <th>genres</th>\n",
       "      <th>homepage</th>\n",
       "      <th>id</th>\n",
       "      <th>imdb_id</th>\n",
       "      <th>original_language</th>\n",
       "      <th>original_title</th>\n",
       "      <th>overview</th>\n",
       "      <th>...</th>\n",
       "      <th>release_date</th>\n",
       "      <th>revenue</th>\n",
       "      <th>runtime</th>\n",
       "      <th>spoken_languages</th>\n",
       "      <th>status</th>\n",
       "      <th>tagline</th>\n",
       "      <th>title</th>\n",
       "      <th>video</th>\n",
       "      <th>vote_average</th>\n",
       "      <th>vote_count</th>\n",
       "    </tr>\n",
       "  </thead>\n",
       "  <tbody>\n",
       "    <tr>\n",
       "      <th>0</th>\n",
       "      <td>False</td>\n",
       "      <td>{'id': 10194, 'name': 'Toy Story Collection', ...</td>\n",
       "      <td>30000000</td>\n",
       "      <td>[{'id': 16, 'name': 'Animation'}, {'id': 35, '...</td>\n",
       "      <td>http://toystory.disney.com/toy-story</td>\n",
       "      <td>862</td>\n",
       "      <td>tt0114709</td>\n",
       "      <td>en</td>\n",
       "      <td>Toy Story</td>\n",
       "      <td>Led by Woody, Andy's toys live happily in his ...</td>\n",
       "      <td>...</td>\n",
       "      <td>1995-10-30</td>\n",
       "      <td>373554033.0</td>\n",
       "      <td>81.0</td>\n",
       "      <td>[{'iso_639_1': 'en', 'name': 'English'}]</td>\n",
       "      <td>Released</td>\n",
       "      <td>NaN</td>\n",
       "      <td>Toy Story</td>\n",
       "      <td>False</td>\n",
       "      <td>7.7</td>\n",
       "      <td>5415.0</td>\n",
       "    </tr>\n",
       "    <tr>\n",
       "      <th>1</th>\n",
       "      <td>False</td>\n",
       "      <td>NaN</td>\n",
       "      <td>65000000</td>\n",
       "      <td>[{'id': 12, 'name': 'Adventure'}, {'id': 14, '...</td>\n",
       "      <td>NaN</td>\n",
       "      <td>8844</td>\n",
       "      <td>tt0113497</td>\n",
       "      <td>en</td>\n",
       "      <td>Jumanji</td>\n",
       "      <td>When siblings Judy and Peter discover an encha...</td>\n",
       "      <td>...</td>\n",
       "      <td>1995-12-15</td>\n",
       "      <td>262797249.0</td>\n",
       "      <td>104.0</td>\n",
       "      <td>[{'iso_639_1': 'en', 'name': 'English'}, {'iso...</td>\n",
       "      <td>Released</td>\n",
       "      <td>Roll the dice and unleash the excitement!</td>\n",
       "      <td>Jumanji</td>\n",
       "      <td>False</td>\n",
       "      <td>6.9</td>\n",
       "      <td>2413.0</td>\n",
       "    </tr>\n",
       "    <tr>\n",
       "      <th>2</th>\n",
       "      <td>False</td>\n",
       "      <td>{'id': 119050, 'name': 'Grumpy Old Men Collect...</td>\n",
       "      <td>0</td>\n",
       "      <td>[{'id': 10749, 'name': 'Romance'}, {'id': 35, ...</td>\n",
       "      <td>NaN</td>\n",
       "      <td>15602</td>\n",
       "      <td>tt0113228</td>\n",
       "      <td>en</td>\n",
       "      <td>Grumpier Old Men</td>\n",
       "      <td>A family wedding reignites the ancient feud be...</td>\n",
       "      <td>...</td>\n",
       "      <td>1995-12-22</td>\n",
       "      <td>0.0</td>\n",
       "      <td>101.0</td>\n",
       "      <td>[{'iso_639_1': 'en', 'name': 'English'}]</td>\n",
       "      <td>Released</td>\n",
       "      <td>Still Yelling. Still Fighting. Still Ready for...</td>\n",
       "      <td>Grumpier Old Men</td>\n",
       "      <td>False</td>\n",
       "      <td>6.5</td>\n",
       "      <td>92.0</td>\n",
       "    </tr>\n",
       "    <tr>\n",
       "      <th>3</th>\n",
       "      <td>False</td>\n",
       "      <td>NaN</td>\n",
       "      <td>16000000</td>\n",
       "      <td>[{'id': 35, 'name': 'Comedy'}, {'id': 18, 'nam...</td>\n",
       "      <td>NaN</td>\n",
       "      <td>31357</td>\n",
       "      <td>tt0114885</td>\n",
       "      <td>en</td>\n",
       "      <td>Waiting to Exhale</td>\n",
       "      <td>Cheated on, mistreated and stepped on, the wom...</td>\n",
       "      <td>...</td>\n",
       "      <td>1995-12-22</td>\n",
       "      <td>81452156.0</td>\n",
       "      <td>127.0</td>\n",
       "      <td>[{'iso_639_1': 'en', 'name': 'English'}]</td>\n",
       "      <td>Released</td>\n",
       "      <td>Friends are the people who let you be yourself...</td>\n",
       "      <td>Waiting to Exhale</td>\n",
       "      <td>False</td>\n",
       "      <td>6.1</td>\n",
       "      <td>34.0</td>\n",
       "    </tr>\n",
       "    <tr>\n",
       "      <th>4</th>\n",
       "      <td>False</td>\n",
       "      <td>{'id': 96871, 'name': 'Father of the Bride Col...</td>\n",
       "      <td>0</td>\n",
       "      <td>[{'id': 35, 'name': 'Comedy'}]</td>\n",
       "      <td>NaN</td>\n",
       "      <td>11862</td>\n",
       "      <td>tt0113041</td>\n",
       "      <td>en</td>\n",
       "      <td>Father of the Bride Part II</td>\n",
       "      <td>Just when George Banks has recovered from his ...</td>\n",
       "      <td>...</td>\n",
       "      <td>1995-02-10</td>\n",
       "      <td>76578911.0</td>\n",
       "      <td>106.0</td>\n",
       "      <td>[{'iso_639_1': 'en', 'name': 'English'}]</td>\n",
       "      <td>Released</td>\n",
       "      <td>Just When His World Is Back To Normal... He's ...</td>\n",
       "      <td>Father of the Bride Part II</td>\n",
       "      <td>False</td>\n",
       "      <td>5.7</td>\n",
       "      <td>173.0</td>\n",
       "    </tr>\n",
       "  </tbody>\n",
       "</table>\n",
       "<p>5 rows × 24 columns</p>\n",
       "</div>"
      ],
      "text/plain": [
       "   adult                              belongs_to_collection    budget  \\\n",
       "0  False  {'id': 10194, 'name': 'Toy Story Collection', ...  30000000   \n",
       "1  False                                                NaN  65000000   \n",
       "2  False  {'id': 119050, 'name': 'Grumpy Old Men Collect...         0   \n",
       "3  False                                                NaN  16000000   \n",
       "4  False  {'id': 96871, 'name': 'Father of the Bride Col...         0   \n",
       "\n",
       "                                              genres  \\\n",
       "0  [{'id': 16, 'name': 'Animation'}, {'id': 35, '...   \n",
       "1  [{'id': 12, 'name': 'Adventure'}, {'id': 14, '...   \n",
       "2  [{'id': 10749, 'name': 'Romance'}, {'id': 35, ...   \n",
       "3  [{'id': 35, 'name': 'Comedy'}, {'id': 18, 'nam...   \n",
       "4                     [{'id': 35, 'name': 'Comedy'}]   \n",
       "\n",
       "                               homepage     id    imdb_id original_language  \\\n",
       "0  http://toystory.disney.com/toy-story    862  tt0114709                en   \n",
       "1                                   NaN   8844  tt0113497                en   \n",
       "2                                   NaN  15602  tt0113228                en   \n",
       "3                                   NaN  31357  tt0114885                en   \n",
       "4                                   NaN  11862  tt0113041                en   \n",
       "\n",
       "                original_title  \\\n",
       "0                    Toy Story   \n",
       "1                      Jumanji   \n",
       "2             Grumpier Old Men   \n",
       "3            Waiting to Exhale   \n",
       "4  Father of the Bride Part II   \n",
       "\n",
       "                                            overview    ...     release_date  \\\n",
       "0  Led by Woody, Andy's toys live happily in his ...    ...       1995-10-30   \n",
       "1  When siblings Judy and Peter discover an encha...    ...       1995-12-15   \n",
       "2  A family wedding reignites the ancient feud be...    ...       1995-12-22   \n",
       "3  Cheated on, mistreated and stepped on, the wom...    ...       1995-12-22   \n",
       "4  Just when George Banks has recovered from his ...    ...       1995-02-10   \n",
       "\n",
       "       revenue runtime                                   spoken_languages  \\\n",
       "0  373554033.0    81.0           [{'iso_639_1': 'en', 'name': 'English'}]   \n",
       "1  262797249.0   104.0  [{'iso_639_1': 'en', 'name': 'English'}, {'iso...   \n",
       "2          0.0   101.0           [{'iso_639_1': 'en', 'name': 'English'}]   \n",
       "3   81452156.0   127.0           [{'iso_639_1': 'en', 'name': 'English'}]   \n",
       "4   76578911.0   106.0           [{'iso_639_1': 'en', 'name': 'English'}]   \n",
       "\n",
       "     status                                            tagline  \\\n",
       "0  Released                                                NaN   \n",
       "1  Released          Roll the dice and unleash the excitement!   \n",
       "2  Released  Still Yelling. Still Fighting. Still Ready for...   \n",
       "3  Released  Friends are the people who let you be yourself...   \n",
       "4  Released  Just When His World Is Back To Normal... He's ...   \n",
       "\n",
       "                         title  video vote_average vote_count  \n",
       "0                    Toy Story  False          7.7     5415.0  \n",
       "1                      Jumanji  False          6.9     2413.0  \n",
       "2             Grumpier Old Men  False          6.5       92.0  \n",
       "3            Waiting to Exhale  False          6.1       34.0  \n",
       "4  Father of the Bride Part II  False          5.7      173.0  \n",
       "\n",
       "[5 rows x 24 columns]"
      ]
     },
     "execution_count": 3,
     "metadata": {},
     "output_type": "execute_result"
    }
   ],
   "source": [
    "raw_data.head()"
   ]
  },
  {
   "cell_type": "code",
   "execution_count": 4,
   "metadata": {},
   "outputs": [
    {
     "data": {
      "text/plain": [
       "Index(['adult', 'belongs_to_collection', 'budget', 'genres', 'homepage', 'id',\n",
       "       'imdb_id', 'original_language', 'original_title', 'overview',\n",
       "       'popularity', 'poster_path', 'production_companies',\n",
       "       'production_countries', 'release_date', 'revenue', 'runtime',\n",
       "       'spoken_languages', 'status', 'tagline', 'title', 'video',\n",
       "       'vote_average', 'vote_count'],\n",
       "      dtype='object')"
      ]
     },
     "execution_count": 4,
     "metadata": {},
     "output_type": "execute_result"
    }
   ],
   "source": [
    "raw_data.columns"
   ]
  },
  {
   "cell_type": "markdown",
   "metadata": {},
   "source": [
    "### Create working dataframe from raw data ###\n",
    "I am going to create a new dataframe called good_data. This df will include all necessary columns from the raw_data dataframe in addition to vectorized data for genres. I will also remove any movies that have missing values from its data."
   ]
  },
  {
   "cell_type": "code",
   "execution_count": 5,
   "metadata": {
    "collapsed": true
   },
   "outputs": [],
   "source": [
    "raw_data = raw_data.loc[(raw_data['imdb_id'] != '0')]\n",
    "good_data = raw_data.loc[:, ['id', 'imdb_id','title', 'popularity', 'release_date', 'revenue', 'budget', 'runtime', 'vote_average', 'vote_count']]\n",
    "good_data['year'] = raw_data[\"release_date\"].str.slice(0,4).astype(float)\n",
    "good_data['month'] = raw_data[\"release_date\"].str.slice(5,7).astype(float)\n",
    "good_data['collection'] = raw_data['belongs_to_collection'].notnull().astype(int)\n",
    "good_data['id'] = good_data['id'].astype(int)\n",
    "good_data['budget'] = good_data['budget'].astype(float)\n",
    "good_data = good_data.loc[:, ['id', 'imdb_id', 'title', 'popularity', 'release_date', 'year', 'month', 'revenue', 'budget', 'runtime', 'vote_average', 'vote_count']]\n"
   ]
  },
  {
   "cell_type": "markdown",
   "metadata": {},
   "source": [
    "**The cells below create our vectorized data**"
   ]
  },
  {
   "cell_type": "code",
   "execution_count": 6,
   "metadata": {
    "collapsed": true
   },
   "outputs": [],
   "source": [
    "genres_raw = (raw_data['genres']\n",
    "        .str.replace('[','')\n",
    "        .str.replace(']','')\n",
    "        .str.replace('{','')\n",
    "        .str.replace('}','')\n",
    "        .str.replace(\"'id':\" ,'')\n",
    "        .str.replace(\"'name':\" ,'')\n",
    "        .str.replace('0','') \n",
    "        .str.replace('1','') \n",
    "        .str.replace('2','') \n",
    "        .str.replace('3','') \n",
    "        .str.replace('4','') \n",
    "        .str.replace('5','') \n",
    "        .str.replace('6','') \n",
    "        .str.replace('7','') \n",
    "        .str.replace('8','') \n",
    "        .str.replace('9','') \n",
    "        .str.replace(' ','') \n",
    "        .str.replace(\"'\", '')\n",
    "        .str.lower()\n",
    "        .str.split(\",\")\n",
    ")           \n",
    "bad_genres = ['sciencefiction',\n",
    "              'foreign',\n",
    "              'tvmovie', \n",
    "              'carouselproductions', \n",
    "              'visionviewentertainment',\n",
    "              'telescenefilmgroupproductions',\n",
    "              'aniplex',\n",
    "              'gohands',\n",
    "              'brostatv',\n",
    "              'mardockscrambleproductioncommittee',\n",
    "              'sentaifilmworks',\n",
    "              'odysseymedia',\n",
    "              'pulserproductions',\n",
    "              'roguestate',\n",
    "              'thecartel'\n",
    "             ]\n",
    "\n",
    "genres = []\n",
    "for i in genres_raw:\n",
    "    for j in i:\n",
    "        if j not in genres and j and j not in bad_genres:\n",
    "            genres.append(j)\n"
   ]
  },
  {
   "cell_type": "code",
   "execution_count": 7,
   "metadata": {
    "collapsed": true
   },
   "outputs": [],
   "source": [
    "def add_genre(source, dest, genre):\n",
    "    dest[genre] = source['genres'].str.contains(genre, case = False)\n",
    "    dest[genre] = dest[genre].astype(int)\n",
    "for genre in genres:\n",
    "    add_genre(raw_data, good_data, genre)\n",
    "#vector_data.head(5)"
   ]
  },
  {
   "cell_type": "code",
   "execution_count": 8,
   "metadata": {
    "collapsed": true
   },
   "outputs": [],
   "source": [
    "credits['crew'] = credits['crew'].apply(literal_eval)\n",
    "credits['cast'] = credits['cast'].apply(literal_eval)\n"
   ]
  },
  {
   "cell_type": "code",
   "execution_count": 9,
   "metadata": {
    "collapsed": true
   },
   "outputs": [],
   "source": [
    "def director(x):\n",
    "    for i in x:\n",
    "        if i['job'] == 'Director':\n",
    "            return i['name']\n",
    "    return np.nan"
   ]
  },
  {
   "cell_type": "code",
   "execution_count": 10,
   "metadata": {
    "collapsed": true
   },
   "outputs": [],
   "source": [
    "credits['cast'] = credits['cast'].apply(lambda x: [i['name'] for i in x] if isinstance(x, list) else [])\n",
    "credits['cast'] = credits['cast'].apply(lambda x: x[:5] if len(x) >=5 else x)\n",
    "credits['director'] = credits['crew'].apply(director)"
   ]
  },
  {
   "cell_type": "code",
   "execution_count": 11,
   "metadata": {
    "collapsed": true
   },
   "outputs": [],
   "source": [
    "good_data = good_data.merge(credits.loc[:,['id','director', 'cast']], on=\"id\")"
   ]
  },
  {
   "cell_type": "code",
   "execution_count": 12,
   "metadata": {},
   "outputs": [
    {
     "data": {
      "text/html": [
       "<div>\n",
       "<style>\n",
       "    .dataframe thead tr:only-child th {\n",
       "        text-align: right;\n",
       "    }\n",
       "\n",
       "    .dataframe thead th {\n",
       "        text-align: left;\n",
       "    }\n",
       "\n",
       "    .dataframe tbody tr th {\n",
       "        vertical-align: top;\n",
       "    }\n",
       "</style>\n",
       "<table border=\"1\" class=\"dataframe\">\n",
       "  <thead>\n",
       "    <tr style=\"text-align: right;\">\n",
       "      <th></th>\n",
       "      <th>id</th>\n",
       "      <th>imdb_id</th>\n",
       "      <th>title</th>\n",
       "      <th>popularity</th>\n",
       "      <th>release_date</th>\n",
       "      <th>year</th>\n",
       "      <th>month</th>\n",
       "      <th>revenue</th>\n",
       "      <th>budget</th>\n",
       "      <th>runtime</th>\n",
       "      <th>...</th>\n",
       "      <th>thriller</th>\n",
       "      <th>horror</th>\n",
       "      <th>history</th>\n",
       "      <th>mystery</th>\n",
       "      <th>war</th>\n",
       "      <th>music</th>\n",
       "      <th>documentary</th>\n",
       "      <th>western</th>\n",
       "      <th>director</th>\n",
       "      <th>cast</th>\n",
       "    </tr>\n",
       "  </thead>\n",
       "  <tbody>\n",
       "    <tr>\n",
       "      <th>0</th>\n",
       "      <td>862</td>\n",
       "      <td>tt0114709</td>\n",
       "      <td>Toy Story</td>\n",
       "      <td>21.9469</td>\n",
       "      <td>1995-10-30</td>\n",
       "      <td>1995.0</td>\n",
       "      <td>10.0</td>\n",
       "      <td>373554033.0</td>\n",
       "      <td>30000000.0</td>\n",
       "      <td>81.0</td>\n",
       "      <td>...</td>\n",
       "      <td>0</td>\n",
       "      <td>0</td>\n",
       "      <td>0</td>\n",
       "      <td>0</td>\n",
       "      <td>0</td>\n",
       "      <td>0</td>\n",
       "      <td>0</td>\n",
       "      <td>0</td>\n",
       "      <td>John Lasseter</td>\n",
       "      <td>[Tom Hanks, Tim Allen, Don Rickles, Jim Varney...</td>\n",
       "    </tr>\n",
       "    <tr>\n",
       "      <th>1</th>\n",
       "      <td>8844</td>\n",
       "      <td>tt0113497</td>\n",
       "      <td>Jumanji</td>\n",
       "      <td>17.0155</td>\n",
       "      <td>1995-12-15</td>\n",
       "      <td>1995.0</td>\n",
       "      <td>12.0</td>\n",
       "      <td>262797249.0</td>\n",
       "      <td>65000000.0</td>\n",
       "      <td>104.0</td>\n",
       "      <td>...</td>\n",
       "      <td>0</td>\n",
       "      <td>0</td>\n",
       "      <td>0</td>\n",
       "      <td>0</td>\n",
       "      <td>0</td>\n",
       "      <td>0</td>\n",
       "      <td>0</td>\n",
       "      <td>0</td>\n",
       "      <td>Joe Johnston</td>\n",
       "      <td>[Robin Williams, Jonathan Hyde, Kirsten Dunst,...</td>\n",
       "    </tr>\n",
       "    <tr>\n",
       "      <th>2</th>\n",
       "      <td>15602</td>\n",
       "      <td>tt0113228</td>\n",
       "      <td>Grumpier Old Men</td>\n",
       "      <td>11.7129</td>\n",
       "      <td>1995-12-22</td>\n",
       "      <td>1995.0</td>\n",
       "      <td>12.0</td>\n",
       "      <td>0.0</td>\n",
       "      <td>0.0</td>\n",
       "      <td>101.0</td>\n",
       "      <td>...</td>\n",
       "      <td>0</td>\n",
       "      <td>0</td>\n",
       "      <td>0</td>\n",
       "      <td>0</td>\n",
       "      <td>0</td>\n",
       "      <td>0</td>\n",
       "      <td>0</td>\n",
       "      <td>0</td>\n",
       "      <td>Howard Deutch</td>\n",
       "      <td>[Walter Matthau, Jack Lemmon, Ann-Margret, Sop...</td>\n",
       "    </tr>\n",
       "    <tr>\n",
       "      <th>3</th>\n",
       "      <td>31357</td>\n",
       "      <td>tt0114885</td>\n",
       "      <td>Waiting to Exhale</td>\n",
       "      <td>3.85949</td>\n",
       "      <td>1995-12-22</td>\n",
       "      <td>1995.0</td>\n",
       "      <td>12.0</td>\n",
       "      <td>81452156.0</td>\n",
       "      <td>16000000.0</td>\n",
       "      <td>127.0</td>\n",
       "      <td>...</td>\n",
       "      <td>0</td>\n",
       "      <td>0</td>\n",
       "      <td>0</td>\n",
       "      <td>0</td>\n",
       "      <td>0</td>\n",
       "      <td>0</td>\n",
       "      <td>0</td>\n",
       "      <td>0</td>\n",
       "      <td>Forest Whitaker</td>\n",
       "      <td>[Whitney Houston, Angela Bassett, Loretta Devi...</td>\n",
       "    </tr>\n",
       "    <tr>\n",
       "      <th>4</th>\n",
       "      <td>11862</td>\n",
       "      <td>tt0113041</td>\n",
       "      <td>Father of the Bride Part II</td>\n",
       "      <td>8.38752</td>\n",
       "      <td>1995-02-10</td>\n",
       "      <td>1995.0</td>\n",
       "      <td>2.0</td>\n",
       "      <td>76578911.0</td>\n",
       "      <td>0.0</td>\n",
       "      <td>106.0</td>\n",
       "      <td>...</td>\n",
       "      <td>0</td>\n",
       "      <td>0</td>\n",
       "      <td>0</td>\n",
       "      <td>0</td>\n",
       "      <td>0</td>\n",
       "      <td>0</td>\n",
       "      <td>0</td>\n",
       "      <td>0</td>\n",
       "      <td>Charles Shyer</td>\n",
       "      <td>[Steve Martin, Diane Keaton, Martin Short, Kim...</td>\n",
       "    </tr>\n",
       "  </tbody>\n",
       "</table>\n",
       "<p>5 rows × 31 columns</p>\n",
       "</div>"
      ],
      "text/plain": [
       "      id    imdb_id                        title popularity release_date  \\\n",
       "0    862  tt0114709                    Toy Story    21.9469   1995-10-30   \n",
       "1   8844  tt0113497                      Jumanji    17.0155   1995-12-15   \n",
       "2  15602  tt0113228             Grumpier Old Men    11.7129   1995-12-22   \n",
       "3  31357  tt0114885            Waiting to Exhale    3.85949   1995-12-22   \n",
       "4  11862  tt0113041  Father of the Bride Part II    8.38752   1995-02-10   \n",
       "\n",
       "     year  month      revenue      budget  runtime  \\\n",
       "0  1995.0   10.0  373554033.0  30000000.0     81.0   \n",
       "1  1995.0   12.0  262797249.0  65000000.0    104.0   \n",
       "2  1995.0   12.0          0.0         0.0    101.0   \n",
       "3  1995.0   12.0   81452156.0  16000000.0    127.0   \n",
       "4  1995.0    2.0   76578911.0         0.0    106.0   \n",
       "\n",
       "                         ...                          thriller  horror  \\\n",
       "0                        ...                                 0       0   \n",
       "1                        ...                                 0       0   \n",
       "2                        ...                                 0       0   \n",
       "3                        ...                                 0       0   \n",
       "4                        ...                                 0       0   \n",
       "\n",
       "   history  mystery  war  music  documentary  western         director  \\\n",
       "0        0        0    0      0            0        0    John Lasseter   \n",
       "1        0        0    0      0            0        0     Joe Johnston   \n",
       "2        0        0    0      0            0        0    Howard Deutch   \n",
       "3        0        0    0      0            0        0  Forest Whitaker   \n",
       "4        0        0    0      0            0        0    Charles Shyer   \n",
       "\n",
       "                                                cast  \n",
       "0  [Tom Hanks, Tim Allen, Don Rickles, Jim Varney...  \n",
       "1  [Robin Williams, Jonathan Hyde, Kirsten Dunst,...  \n",
       "2  [Walter Matthau, Jack Lemmon, Ann-Margret, Sop...  \n",
       "3  [Whitney Houston, Angela Bassett, Loretta Devi...  \n",
       "4  [Steve Martin, Diane Keaton, Martin Short, Kim...  \n",
       "\n",
       "[5 rows x 31 columns]"
      ]
     },
     "execution_count": 12,
     "metadata": {},
     "output_type": "execute_result"
    }
   ],
   "source": [
    "good_data.head(5)"
   ]
  },
  {
   "cell_type": "code",
   "execution_count": 13,
   "metadata": {
    "collapsed": true
   },
   "outputs": [],
   "source": [
    "def budgetStats(df):\n",
    "    noBudget = df.loc[df['budget'] == 0,'budget'].count()\n",
    "    numMovies = df.count().max()\n",
    "    ratio = noBudget / numMovies\n",
    "    return noBudget, numMovies, ratio, 1 - ratio"
   ]
  },
  {
   "cell_type": "code",
   "execution_count": 14,
   "metadata": {
    "collapsed": true
   },
   "outputs": [],
   "source": [
    "def revenueStats(df):\n",
    "    noRevenue = df.loc[df['revenue'] == 0,'revenue'].count()\n",
    "    numMovies = df.count().max()\n",
    "    ratio = noRevenue / numMovies\n",
    "    return noRevenue, numMovies, ratio, 1 - ratio"
   ]
  },
  {
   "cell_type": "code",
   "execution_count": 15,
   "metadata": {
    "collapsed": true
   },
   "outputs": [],
   "source": [
    "def noRevOrBudg(df):\n",
    "    neither = df.loc[(df['budget'] == 0) & (df['revenue'] == 0) ,'budget'].count()\n",
    "    numMovies = df.count().max()\n",
    "    ratio = neither / numMovies\n",
    "    return neither, numMovies, ratio, 1 - ratio"
   ]
  },
  {
   "cell_type": "code",
   "execution_count": 16,
   "metadata": {},
   "outputs": [
    {
     "data": {
      "text/plain": [
       "(36626, 45538, 0.8042953138038561, 0.1957046861961439)"
      ]
     },
     "metadata": {},
     "output_type": "display_data"
    },
    {
     "data": {
      "text/plain": [
       "(38107, 45538, 0.83681760288111029, 0.16318239711888971)"
      ]
     },
     "metadata": {},
     "output_type": "display_data"
    },
    {
     "data": {
      "text/plain": [
       "(34588, 45538, 0.759541481839343, 0.240458518160657)"
      ]
     },
     "metadata": {},
     "output_type": "display_data"
    }
   ],
   "source": [
    "display(budgetStats(good_data))\n",
    "display(revenueStats(good_data))\n",
    "display(noRevOrBudg(good_data))"
   ]
  },
  {
   "cell_type": "code",
   "execution_count": 17,
   "metadata": {
    "collapsed": true
   },
   "outputs": [],
   "source": [
    "vote_counts = raw_data[raw_data['vote_count'].notnull()]['vote_count'].astype('int')\n",
    "vote_averages = raw_data[raw_data['vote_average'].notnull()]['vote_average'].astype('int')"
   ]
  },
  {
   "cell_type": "code",
   "execution_count": 18,
   "metadata": {
    "collapsed": true
   },
   "outputs": [],
   "source": [
    "m = vote_counts.quantile(0.95)\n",
    "\n",
    "def weighted_rating(x):\n",
    "    C = vote_averages.mean()\n",
    "    v = x['vote_count']\n",
    "    R = x['vote_average']\n",
    "    return (v*R/(v+m)) + (m*C/(m+v))"
   ]
  },
  {
   "cell_type": "code",
   "execution_count": 19,
   "metadata": {
    "collapsed": true
   },
   "outputs": [],
   "source": [
    "def ranking(source = good_data, genre = None, count = 25, columns = None):\n",
    "    if genre:\n",
    "        dest = source[(source['vote_count'] >= m) & (source['vote_count'].notnull()) & (source['vote_average'].notnull()) & (source[genre] == 1)]\n",
    "    else:\n",
    "        dest = source[(source['vote_count'] >= m) & (source['vote_count'].notnull()) & (source['vote_average'].notnull())]\n",
    "    if columns == 'all':\n",
    "        dest = dest\n",
    "    elif not columns:\n",
    "        dest = dest[['title','director','cast', 'year', 'vote_count', 'vote_average', 'popularity']]\n",
    "    else:\n",
    "        dest = dest[columns]\n",
    "    dest['vote_average'] = dest['vote_average'].astype('int')\n",
    "    dest['vote_count'] = dest['vote_count'].astype('int')\n",
    "    dest['weighted_rating'] = dest.apply(weighted_rating, axis=1)\n",
    "    dest = dest.sort_values('weighted_rating', ascending=False).reset_index(drop = True)\n",
    "    dest.insert(0, 'rank', dest.index + 1)\n",
    "    return(dest.head(count))\n",
    "\n",
    "\n"
   ]
  },
  {
   "cell_type": "code",
   "execution_count": 20,
   "metadata": {},
   "outputs": [
    {
     "name": "stderr",
     "output_type": "stream",
     "text": [
      "/anaconda3/lib/python3.6/site-packages/ipykernel_launcher.py:12: SettingWithCopyWarning: \n",
      "A value is trying to be set on a copy of a slice from a DataFrame.\n",
      "Try using .loc[row_indexer,col_indexer] = value instead\n",
      "\n",
      "See the caveats in the documentation: http://pandas.pydata.org/pandas-docs/stable/indexing.html#indexing-view-versus-copy\n",
      "  if sys.path[0] == '':\n",
      "/anaconda3/lib/python3.6/site-packages/ipykernel_launcher.py:13: SettingWithCopyWarning: \n",
      "A value is trying to be set on a copy of a slice from a DataFrame.\n",
      "Try using .loc[row_indexer,col_indexer] = value instead\n",
      "\n",
      "See the caveats in the documentation: http://pandas.pydata.org/pandas-docs/stable/indexing.html#indexing-view-versus-copy\n",
      "  del sys.path[0]\n",
      "/anaconda3/lib/python3.6/site-packages/ipykernel_launcher.py:14: SettingWithCopyWarning: \n",
      "A value is trying to be set on a copy of a slice from a DataFrame.\n",
      "Try using .loc[row_indexer,col_indexer] = value instead\n",
      "\n",
      "See the caveats in the documentation: http://pandas.pydata.org/pandas-docs/stable/indexing.html#indexing-view-versus-copy\n",
      "  \n"
     ]
    }
   ],
   "source": [
    "top25 = dict()\n",
    "for genre in genres:\n",
    "    top25[genre] = ranking(genre=genre, columns = 'all')"
   ]
  },
  {
   "cell_type": "code",
   "execution_count": 21,
   "metadata": {
    "collapsed": true
   },
   "outputs": [],
   "source": [
    "#for genre in genres:\n",
    "#    display(genre)\n",
    "#    display(top25[genre].head())"
   ]
  },
  {
   "cell_type": "code",
   "execution_count": 22,
   "metadata": {},
   "outputs": [
    {
     "name": "stderr",
     "output_type": "stream",
     "text": [
      "/anaconda3/lib/python3.6/site-packages/ipykernel_launcher.py:12: SettingWithCopyWarning: \n",
      "A value is trying to be set on a copy of a slice from a DataFrame.\n",
      "Try using .loc[row_indexer,col_indexer] = value instead\n",
      "\n",
      "See the caveats in the documentation: http://pandas.pydata.org/pandas-docs/stable/indexing.html#indexing-view-versus-copy\n",
      "  if sys.path[0] == '':\n",
      "/anaconda3/lib/python3.6/site-packages/ipykernel_launcher.py:13: SettingWithCopyWarning: \n",
      "A value is trying to be set on a copy of a slice from a DataFrame.\n",
      "Try using .loc[row_indexer,col_indexer] = value instead\n",
      "\n",
      "See the caveats in the documentation: http://pandas.pydata.org/pandas-docs/stable/indexing.html#indexing-view-versus-copy\n",
      "  del sys.path[0]\n",
      "/anaconda3/lib/python3.6/site-packages/ipykernel_launcher.py:14: SettingWithCopyWarning: \n",
      "A value is trying to be set on a copy of a slice from a DataFrame.\n",
      "Try using .loc[row_indexer,col_indexer] = value instead\n",
      "\n",
      "See the caveats in the documentation: http://pandas.pydata.org/pandas-docs/stable/indexing.html#indexing-view-versus-copy\n",
      "  \n"
     ]
    }
   ],
   "source": [
    "top1000 = ranking(count = 1000, columns ='all')\n",
    "    \n"
   ]
  },
  {
   "cell_type": "code",
   "execution_count": 23,
   "metadata": {},
   "outputs": [
    {
     "data": {
      "text/html": [
       "<div>\n",
       "<style>\n",
       "    .dataframe thead tr:only-child th {\n",
       "        text-align: right;\n",
       "    }\n",
       "\n",
       "    .dataframe thead th {\n",
       "        text-align: left;\n",
       "    }\n",
       "\n",
       "    .dataframe tbody tr th {\n",
       "        vertical-align: top;\n",
       "    }\n",
       "</style>\n",
       "<table border=\"1\" class=\"dataframe\">\n",
       "  <thead>\n",
       "    <tr style=\"text-align: right;\">\n",
       "      <th></th>\n",
       "      <th>rank</th>\n",
       "      <th>id</th>\n",
       "      <th>imdb_id</th>\n",
       "      <th>title</th>\n",
       "      <th>popularity</th>\n",
       "      <th>release_date</th>\n",
       "      <th>year</th>\n",
       "      <th>month</th>\n",
       "      <th>revenue</th>\n",
       "      <th>budget</th>\n",
       "      <th>...</th>\n",
       "      <th>horror</th>\n",
       "      <th>history</th>\n",
       "      <th>mystery</th>\n",
       "      <th>war</th>\n",
       "      <th>music</th>\n",
       "      <th>documentary</th>\n",
       "      <th>western</th>\n",
       "      <th>director</th>\n",
       "      <th>cast</th>\n",
       "      <th>weighted_rating</th>\n",
       "    </tr>\n",
       "  </thead>\n",
       "  <tbody>\n",
       "    <tr>\n",
       "      <th>0</th>\n",
       "      <td>1</td>\n",
       "      <td>27205</td>\n",
       "      <td>tt1375666</td>\n",
       "      <td>Inception</td>\n",
       "      <td>29.1081</td>\n",
       "      <td>2010-07-14</td>\n",
       "      <td>2010.0</td>\n",
       "      <td>7.0</td>\n",
       "      <td>8.255328e+08</td>\n",
       "      <td>160000000.0</td>\n",
       "      <td>...</td>\n",
       "      <td>0</td>\n",
       "      <td>0</td>\n",
       "      <td>1</td>\n",
       "      <td>0</td>\n",
       "      <td>0</td>\n",
       "      <td>0</td>\n",
       "      <td>0</td>\n",
       "      <td>Christopher Nolan</td>\n",
       "      <td>[Leonardo DiCaprio, Joseph Gordon-Levitt, Elle...</td>\n",
       "      <td>7.917588</td>\n",
       "    </tr>\n",
       "    <tr>\n",
       "      <th>1</th>\n",
       "      <td>2</td>\n",
       "      <td>155</td>\n",
       "      <td>tt0468569</td>\n",
       "      <td>The Dark Knight</td>\n",
       "      <td>123.167</td>\n",
       "      <td>2008-07-16</td>\n",
       "      <td>2008.0</td>\n",
       "      <td>7.0</td>\n",
       "      <td>1.004558e+09</td>\n",
       "      <td>185000000.0</td>\n",
       "      <td>...</td>\n",
       "      <td>0</td>\n",
       "      <td>0</td>\n",
       "      <td>0</td>\n",
       "      <td>0</td>\n",
       "      <td>0</td>\n",
       "      <td>0</td>\n",
       "      <td>0</td>\n",
       "      <td>Christopher Nolan</td>\n",
       "      <td>[Christian Bale, Michael Caine, Heath Ledger, ...</td>\n",
       "      <td>7.905871</td>\n",
       "    </tr>\n",
       "    <tr>\n",
       "      <th>2</th>\n",
       "      <td>3</td>\n",
       "      <td>157336</td>\n",
       "      <td>tt0816692</td>\n",
       "      <td>Interstellar</td>\n",
       "      <td>32.2135</td>\n",
       "      <td>2014-11-05</td>\n",
       "      <td>2014.0</td>\n",
       "      <td>11.0</td>\n",
       "      <td>6.751200e+08</td>\n",
       "      <td>165000000.0</td>\n",
       "      <td>...</td>\n",
       "      <td>0</td>\n",
       "      <td>0</td>\n",
       "      <td>0</td>\n",
       "      <td>0</td>\n",
       "      <td>0</td>\n",
       "      <td>0</td>\n",
       "      <td>0</td>\n",
       "      <td>Christopher Nolan</td>\n",
       "      <td>[Matthew McConaughey, Jessica Chastain, Anne H...</td>\n",
       "      <td>7.897107</td>\n",
       "    </tr>\n",
       "    <tr>\n",
       "      <th>3</th>\n",
       "      <td>4</td>\n",
       "      <td>550</td>\n",
       "      <td>tt0137523</td>\n",
       "      <td>Fight Club</td>\n",
       "      <td>63.8696</td>\n",
       "      <td>1999-10-15</td>\n",
       "      <td>1999.0</td>\n",
       "      <td>10.0</td>\n",
       "      <td>1.008538e+08</td>\n",
       "      <td>63000000.0</td>\n",
       "      <td>...</td>\n",
       "      <td>0</td>\n",
       "      <td>0</td>\n",
       "      <td>0</td>\n",
       "      <td>0</td>\n",
       "      <td>0</td>\n",
       "      <td>0</td>\n",
       "      <td>0</td>\n",
       "      <td>David Fincher</td>\n",
       "      <td>[Edward Norton, Brad Pitt, Meat Loaf, Jared Le...</td>\n",
       "      <td>7.881753</td>\n",
       "    </tr>\n",
       "    <tr>\n",
       "      <th>4</th>\n",
       "      <td>5</td>\n",
       "      <td>120</td>\n",
       "      <td>tt0120737</td>\n",
       "      <td>The Lord of the Rings: The Fellowship of the Ring</td>\n",
       "      <td>32.0707</td>\n",
       "      <td>2001-12-18</td>\n",
       "      <td>2001.0</td>\n",
       "      <td>12.0</td>\n",
       "      <td>8.713684e+08</td>\n",
       "      <td>93000000.0</td>\n",
       "      <td>...</td>\n",
       "      <td>0</td>\n",
       "      <td>0</td>\n",
       "      <td>0</td>\n",
       "      <td>0</td>\n",
       "      <td>0</td>\n",
       "      <td>0</td>\n",
       "      <td>0</td>\n",
       "      <td>Peter Jackson</td>\n",
       "      <td>[Elijah Wood, Ian McKellen, Cate Blanchett, Or...</td>\n",
       "      <td>7.871787</td>\n",
       "    </tr>\n",
       "  </tbody>\n",
       "</table>\n",
       "<p>5 rows × 33 columns</p>\n",
       "</div>"
      ],
      "text/plain": [
       "   rank      id    imdb_id                                              title  \\\n",
       "0     1   27205  tt1375666                                          Inception   \n",
       "1     2     155  tt0468569                                    The Dark Knight   \n",
       "2     3  157336  tt0816692                                       Interstellar   \n",
       "3     4     550  tt0137523                                         Fight Club   \n",
       "4     5     120  tt0120737  The Lord of the Rings: The Fellowship of the Ring   \n",
       "\n",
       "  popularity release_date    year  month       revenue       budget  \\\n",
       "0    29.1081   2010-07-14  2010.0    7.0  8.255328e+08  160000000.0   \n",
       "1    123.167   2008-07-16  2008.0    7.0  1.004558e+09  185000000.0   \n",
       "2    32.2135   2014-11-05  2014.0   11.0  6.751200e+08  165000000.0   \n",
       "3    63.8696   1999-10-15  1999.0   10.0  1.008538e+08   63000000.0   \n",
       "4    32.0707   2001-12-18  2001.0   12.0  8.713684e+08   93000000.0   \n",
       "\n",
       "        ...         horror  history  mystery  war  music  documentary  \\\n",
       "0       ...              0        0        1    0      0            0   \n",
       "1       ...              0        0        0    0      0            0   \n",
       "2       ...              0        0        0    0      0            0   \n",
       "3       ...              0        0        0    0      0            0   \n",
       "4       ...              0        0        0    0      0            0   \n",
       "\n",
       "   western           director  \\\n",
       "0        0  Christopher Nolan   \n",
       "1        0  Christopher Nolan   \n",
       "2        0  Christopher Nolan   \n",
       "3        0      David Fincher   \n",
       "4        0      Peter Jackson   \n",
       "\n",
       "                                                cast  weighted_rating  \n",
       "0  [Leonardo DiCaprio, Joseph Gordon-Levitt, Elle...         7.917588  \n",
       "1  [Christian Bale, Michael Caine, Heath Ledger, ...         7.905871  \n",
       "2  [Matthew McConaughey, Jessica Chastain, Anne H...         7.897107  \n",
       "3  [Edward Norton, Brad Pitt, Meat Loaf, Jared Le...         7.881753  \n",
       "4  [Elijah Wood, Ian McKellen, Cate Blanchett, Or...         7.871787  \n",
       "\n",
       "[5 rows x 33 columns]"
      ]
     },
     "execution_count": 23,
     "metadata": {},
     "output_type": "execute_result"
    }
   ],
   "source": [
    "top1000.head(5)"
   ]
  },
  {
   "cell_type": "code",
   "execution_count": 24,
   "metadata": {},
   "outputs": [
    {
     "data": {
      "text/plain": [
       "(59, 1000, 0.058999999999999997, 0.94100000000000006)"
      ]
     },
     "metadata": {},
     "output_type": "display_data"
    },
    {
     "data": {
      "text/plain": [
       "(50, 1000, 0.050000000000000003, 0.94999999999999996)"
      ]
     },
     "metadata": {},
     "output_type": "display_data"
    },
    {
     "data": {
      "text/plain": [
       "(25, 1000, 0.025000000000000001, 0.97499999999999998)"
      ]
     },
     "metadata": {},
     "output_type": "display_data"
    }
   ],
   "source": [
    "display(budgetStats(top1000))\n",
    "display(revenueStats(top1000))\n",
    "display(noRevOrBudg(top1000))"
   ]
  },
  {
   "cell_type": "code",
   "execution_count": 25,
   "metadata": {
    "collapsed": true
   },
   "outputs": [],
   "source": [
    "topMonths = top1000.groupby('month').count()['rank']"
   ]
  },
  {
   "cell_type": "code",
   "execution_count": 26,
   "metadata": {
    "collapsed": true
   },
   "outputs": [],
   "source": [
    "topYears = top1000.groupby('year').count()['rank']"
   ]
  },
  {
   "cell_type": "code",
   "execution_count": 27,
   "metadata": {},
   "outputs": [
    {
     "data": {
      "text/plain": [
       "Text(0.5,1,'Counts of number of movies released per month of the top 1000 movies in the dataset')"
      ]
     },
     "execution_count": 27,
     "metadata": {},
     "output_type": "execute_result"
    },
    {
     "data": {
      "image/png": "[encoded data removed]",
      "text/plain": [
       "<matplotlib.figure.Figure at 0x1a596ba518>"
      ]
     },
     "metadata": {},
     "output_type": "display_data"
    }
   ],
   "source": [
    "plt.figure()\n",
    "plt.bar(topMonths.index, topMonths)\n",
    "plt.xlabel('Month')\n",
    "plt.ylabel('Number of Movies Released')\n",
    "plt.title('Counts of number of movies released per month of the top 1000 movies in the dataset')"
   ]
  },
  {
   "cell_type": "markdown",
   "metadata": {},
   "source": [
    "From this graph we can see that the most popular movies were released in December. Often times, blockbuster movies have a christmas release that fuels the box office and is before awards season. Also, we can see a spike in the amount of popular movies during May and June compared to the other summer months. Its interesting to see that January has the least amount of movies in the top 1000. This makes sense because I can't think of any movies that I have seen released in January."
   ]
  },
  {
   "cell_type": "code",
   "execution_count": 28,
   "metadata": {},
   "outputs": [
    {
     "data": {
      "text/plain": [
       "Text(0.5,1,'Counts of number of movies released per year of the top 1000 movies in the dataset')"
      ]
     },
     "execution_count": 28,
     "metadata": {},
     "output_type": "execute_result"
    },
    {
     "data": {
      "image/png": "[encoded data removed]",
      "text/plain": [
       "<matplotlib.figure.Figure at 0x1a596684a8>"
      ]
     },
     "metadata": {},
     "output_type": "display_data"
    }
   ],
   "source": [
    "plt.figure()\n",
    "plt.bar(topYears.index, topYears)\n",
    "plt.xlabel('Year')\n",
    "plt.ylabel('Number of Movies Released')\n",
    "plt.title('Counts of number of movies released per year of the top 1000 movies in the dataset')"
   ]
  },
  {
   "cell_type": "markdown",
   "metadata": {
    "collapsed": true
   },
   "source": [
    "From this graph, we can see that the most popular movies in our dataset came out after the year 2000, in particular the 2010s. This is because this people who would have contributed reviews were more familiar with these movies. Despite this, there are still classic movies included in our dataset that have withstood the test of time."
   ]
  },
  {
   "cell_type": "markdown",
   "metadata": {},
   "source": [
    "With the results from this second graph, I am going to investigat into movie that were released before 1980. I want to see what features of these movies they have in common with each other."
   ]
  },
  {
   "cell_type": "code",
   "execution_count": 29,
   "metadata": {
    "collapsed": true
   },
   "outputs": [],
   "source": [
    "pre1980 = top1000.loc[top1000['year'] < 1980,:]"
   ]
  },
  {
   "cell_type": "code",
   "execution_count": 30,
   "metadata": {},
   "outputs": [
    {
     "data": {
      "text/plain": [
       "97"
      ]
     },
     "execution_count": 30,
     "metadata": {},
     "output_type": "execute_result"
    }
   ],
   "source": [
    "len(pre1980)"
   ]
  },
  {
   "cell_type": "markdown",
   "metadata": {},
   "source": [
    "Of the top 1000 movies in our dataset, only 97 were released prior to 1980."
   ]
  },
  {
   "cell_type": "code",
   "execution_count": 31,
   "metadata": {},
   "outputs": [
    {
     "data": {
      "text/plain": [
       "25"
      ]
     },
     "execution_count": 31,
     "metadata": {},
     "output_type": "execute_result"
    }
   ],
   "source": [
    "top250pre1980 = pre1980.loc[pre1980['rank']<250,:]\n",
    "len(top250pre1980)"
   ]
  },
  {
   "cell_type": "markdown",
   "metadata": {},
   "source": [
    "A common list on IMDB is their top250 chart. This lists the top 250 movies in their dataset. Only 25 movies in my top250 are from before 1980."
   ]
  },
  {
   "cell_type": "code",
   "execution_count": 32,
   "metadata": {
    "collapsed": true
   },
   "outputs": [],
   "source": [
    "def movies_by_director(director):\n",
    "    return top1000.loc[top1000['director'] == director, :]"
   ]
  },
  {
   "cell_type": "code",
   "execution_count": 33,
   "metadata": {},
   "outputs": [
    {
     "data": {
      "text/html": [
       "<div>\n",
       "<style>\n",
       "    .dataframe thead tr:only-child th {\n",
       "        text-align: right;\n",
       "    }\n",
       "\n",
       "    .dataframe thead th {\n",
       "        text-align: left;\n",
       "    }\n",
       "\n",
       "    .dataframe tbody tr th {\n",
       "        vertical-align: top;\n",
       "    }\n",
       "</style>\n",
       "<table border=\"1\" class=\"dataframe\">\n",
       "  <thead>\n",
       "    <tr style=\"text-align: right;\">\n",
       "      <th></th>\n",
       "      <th>rank</th>\n",
       "      <th>id</th>\n",
       "      <th>imdb_id</th>\n",
       "      <th>title</th>\n",
       "      <th>popularity</th>\n",
       "      <th>release_date</th>\n",
       "      <th>year</th>\n",
       "      <th>month</th>\n",
       "      <th>revenue</th>\n",
       "      <th>budget</th>\n",
       "      <th>...</th>\n",
       "      <th>horror</th>\n",
       "      <th>history</th>\n",
       "      <th>mystery</th>\n",
       "      <th>war</th>\n",
       "      <th>music</th>\n",
       "      <th>documentary</th>\n",
       "      <th>western</th>\n",
       "      <th>director</th>\n",
       "      <th>cast</th>\n",
       "      <th>weighted_rating</th>\n",
       "    </tr>\n",
       "  </thead>\n",
       "  <tbody>\n",
       "    <tr>\n",
       "      <th>21</th>\n",
       "      <td>22</td>\n",
       "      <td>424</td>\n",
       "      <td>tt0108052</td>\n",
       "      <td>Schindler's List</td>\n",
       "      <td>41.7251</td>\n",
       "      <td>1993-11-29</td>\n",
       "      <td>1993.0</td>\n",
       "      <td>11.0</td>\n",
       "      <td>321365567.0</td>\n",
       "      <td>22000000.0</td>\n",
       "      <td>...</td>\n",
       "      <td>0</td>\n",
       "      <td>1</td>\n",
       "      <td>0</td>\n",
       "      <td>1</td>\n",
       "      <td>0</td>\n",
       "      <td>0</td>\n",
       "      <td>0</td>\n",
       "      <td>Steven Spielberg</td>\n",
       "      <td>[Liam Neeson, Ben Kingsley, Ralph Fiennes, Car...</td>\n",
       "      <td>7.754473</td>\n",
       "    </tr>\n",
       "  </tbody>\n",
       "</table>\n",
       "<p>1 rows × 33 columns</p>\n",
       "</div>"
      ],
      "text/plain": [
       "    rank   id    imdb_id             title popularity release_date    year  \\\n",
       "21    22  424  tt0108052  Schindler's List    41.7251   1993-11-29  1993.0   \n",
       "\n",
       "    month      revenue      budget       ...         horror  history  mystery  \\\n",
       "21   11.0  321365567.0  22000000.0       ...              0        1        0   \n",
       "\n",
       "    war  music  documentary  western          director  \\\n",
       "21    1      0            0        0  Steven Spielberg   \n",
       "\n",
       "                                                 cast  weighted_rating  \n",
       "21  [Liam Neeson, Ben Kingsley, Ralph Fiennes, Car...         7.754473  \n",
       "\n",
       "[1 rows x 33 columns]"
      ]
     },
     "execution_count": 33,
     "metadata": {},
     "output_type": "execute_result"
    }
   ],
   "source": [
    "movies_by_director('Steven Spielberg').head(1)"
   ]
  },
  {
   "cell_type": "code",
   "execution_count": 34,
   "metadata": {
    "collapsed": true
   },
   "outputs": [],
   "source": [
    "def most_popular_directors():\n",
    "    filtered = top1000.groupby('director').filter(lambda x: x['title'].count() > 2)\n",
    "    filtered = filtered.groupby('director').agg({'weighted_rating':'mean', 'title': 'count'}).sort_values(by='weighted_rating', ascending=False)\n",
    "    return filtered.rename(index = str, columns={'title': 'count'})"
   ]
  },
  {
   "cell_type": "code",
   "execution_count": 38,
   "metadata": {},
   "outputs": [],
   "source": [
    "most_popular_directors().head(25)"
   ]
  },
  {
   "cell_type": "code",
   "execution_count": 39,
   "metadata": {},
   "outputs": [
    {
     "name": "stderr",
     "output_type": "stream",
     "text": [
      "/anaconda3/lib/python3.6/site-packages/ipykernel_launcher.py:12: SettingWithCopyWarning: \n",
      "A value is trying to be set on a copy of a slice from a DataFrame.\n",
      "Try using .loc[row_indexer,col_indexer] = value instead\n",
      "\n",
      "See the caveats in the documentation: http://pandas.pydata.org/pandas-docs/stable/indexing.html#indexing-view-versus-copy\n",
      "  if sys.path[0] == '':\n",
      "/anaconda3/lib/python3.6/site-packages/ipykernel_launcher.py:13: SettingWithCopyWarning: \n",
      "A value is trying to be set on a copy of a slice from a DataFrame.\n",
      "Try using .loc[row_indexer,col_indexer] = value instead\n",
      "\n",
      "See the caveats in the documentation: http://pandas.pydata.org/pandas-docs/stable/indexing.html#indexing-view-versus-copy\n",
      "  del sys.path[0]\n",
      "/anaconda3/lib/python3.6/site-packages/ipykernel_launcher.py:14: SettingWithCopyWarning: \n",
      "A value is trying to be set on a copy of a slice from a DataFrame.\n",
      "Try using .loc[row_indexer,col_indexer] = value instead\n",
      "\n",
      "See the caveats in the documentation: http://pandas.pydata.org/pandas-docs/stable/indexing.html#indexing-view-versus-copy\n",
      "  \n"
     ]
    }
   ],
   "source": [
    "animated_movies = ranking(genre='animation',count = 1000, columns='all')"
   ]
  },
  {
   "cell_type": "code",
   "execution_count": 54,
   "metadata": {},
   "outputs": [
    {
     "data": {
      "text/html": [
       "<div>\n",
       "<style>\n",
       "    .dataframe thead tr:only-child th {\n",
       "        text-align: right;\n",
       "    }\n",
       "\n",
       "    .dataframe thead th {\n",
       "        text-align: left;\n",
       "    }\n",
       "\n",
       "    .dataframe tbody tr th {\n",
       "        vertical-align: top;\n",
       "    }\n",
       "</style>\n",
       "<table border=\"1\" class=\"dataframe\">\n",
       "  <thead>\n",
       "    <tr style=\"text-align: right;\">\n",
       "      <th></th>\n",
       "      <th>runtime</th>\n",
       "      <th>title</th>\n",
       "    </tr>\n",
       "    <tr>\n",
       "      <th>director</th>\n",
       "      <th></th>\n",
       "      <th></th>\n",
       "    </tr>\n",
       "  </thead>\n",
       "  <tbody>\n",
       "    <tr>\n",
       "      <th>Hayao Miyazaki</th>\n",
       "      <td>112.800000</td>\n",
       "      <td>10</td>\n",
       "    </tr>\n",
       "    <tr>\n",
       "      <th>Ron Clements</th>\n",
       "      <td>94.166667</td>\n",
       "      <td>6</td>\n",
       "    </tr>\n",
       "    <tr>\n",
       "      <th>John Lasseter</th>\n",
       "      <td>98.200000</td>\n",
       "      <td>5</td>\n",
       "    </tr>\n",
       "    <tr>\n",
       "      <th>Eric Darnell</th>\n",
       "      <td>87.500000</td>\n",
       "      <td>4</td>\n",
       "    </tr>\n",
       "    <tr>\n",
       "      <th>Robert Zemeckis</th>\n",
       "      <td>103.750000</td>\n",
       "      <td>4</td>\n",
       "    </tr>\n",
       "    <tr>\n",
       "      <th>Hamilton Luske</th>\n",
       "      <td>79.500000</td>\n",
       "      <td>4</td>\n",
       "    </tr>\n",
       "    <tr>\n",
       "      <th>Carlos Saldanha</th>\n",
       "      <td>95.750000</td>\n",
       "      <td>4</td>\n",
       "    </tr>\n",
       "    <tr>\n",
       "      <th>Wolfgang Reitherman</th>\n",
       "      <td>79.500000</td>\n",
       "      <td>4</td>\n",
       "    </tr>\n",
       "    <tr>\n",
       "      <th>Andrew Stanton</th>\n",
       "      <td>98.333333</td>\n",
       "      <td>3</td>\n",
       "    </tr>\n",
       "    <tr>\n",
       "      <th>Pete Docter</th>\n",
       "      <td>94.000000</td>\n",
       "      <td>3</td>\n",
       "    </tr>\n",
       "  </tbody>\n",
       "</table>\n",
       "</div>"
      ],
      "text/plain": [
       "                        runtime  title\n",
       "director                              \n",
       "Hayao Miyazaki       112.800000     10\n",
       "Ron Clements          94.166667      6\n",
       "John Lasseter         98.200000      5\n",
       "Eric Darnell          87.500000      4\n",
       "Robert Zemeckis      103.750000      4\n",
       "Hamilton Luske        79.500000      4\n",
       "Carlos Saldanha       95.750000      4\n",
       "Wolfgang Reitherman   79.500000      4\n",
       "Andrew Stanton        98.333333      3\n",
       "Pete Docter           94.000000      3"
      ]
     },
     "execution_count": 54,
     "metadata": {},
     "output_type": "execute_result"
    }
   ],
   "source": [
    "#animated_movies.groupby('director').agg({'runtime':'mean', 'title':'count'}).sort_values('title', ascending=False).head(10)"
   ]
  },
  {
   "cell_type": "code",
   "execution_count": 55,
   "metadata": {},
   "outputs": [
    {
     "data": {
      "text/plain": [
       "Index(['rank', 'id', 'imdb_id', 'title', 'popularity', 'release_date', 'year',\n",
       "       'month', 'revenue', 'budget', 'runtime', 'vote_average', 'vote_count',\n",
       "       'animation', 'comedy', 'family', 'adventure', 'fantasy', 'romance',\n",
       "       'drama', 'action', 'crime', 'thriller', 'horror', 'history', 'mystery',\n",
       "       'war', 'music', 'documentary', 'western', 'director', 'cast',\n",
       "       'weighted_rating'],\n",
       "      dtype='object')"
      ]
     },
     "execution_count": 55,
     "metadata": {},
     "output_type": "execute_result"
    }
   ],
   "source": [
    "animated_movies.columns"
   ]
  },
  {
   "cell_type": "code",
   "execution_count": 60,
   "metadata": {},
   "outputs": [
    {
     "data": {
      "text/plain": [
       "cast        [Tom Hanks, Tim Allen, Don Rickles, Jim Varney...\n",
       "crew        [{'credit_id': '52fe4284c3a36847f8024f49', 'de...\n",
       "id                                                        862\n",
       "director                                        John Lasseter\n",
       "Name: 0, dtype: object"
      ]
     },
     "execution_count": 60,
     "metadata": {},
     "output_type": "execute_result"
    }
   ],
   "source": [
    "credits.iloc[0,:]"
   ]
  },
  {
   "cell_type": "code",
   "execution_count": null,
   "metadata": {
    "collapsed": true
   },
   "outputs": [],
   "source": []
  },
  {
   "cell_type": "code",
   "execution_count": null,
   "metadata": {
    "collapsed": true
   },
   "outputs": [],
   "source": []
  },
  {
   "cell_type": "code",
   "execution_count": null,
   "metadata": {
    "collapsed": true
   },
   "outputs": [],
   "source": []
  },
  {
   "cell_type": "code",
   "execution_count": null,
   "metadata": {
    "collapsed": true
   },
   "outputs": [],
   "source": []
  }
 ],
 "metadata": {
  "kernelspec": {
   "display_name": "Python 3",
   "language": "python",
   "name": "python3"
  },
  "language_info": {
   "codemirror_mode": {
    "name": "ipython",
    "version": 3
   },
   "file_extension": ".py",
   "mimetype": "text/x-python",
   "name": "python",
   "nbconvert_exporter": "python",
   "pygments_lexer": "ipython3",
   "version": "3.6.3"
  }
 },
 "nbformat": 4,
 "nbformat_minor": 2
}
